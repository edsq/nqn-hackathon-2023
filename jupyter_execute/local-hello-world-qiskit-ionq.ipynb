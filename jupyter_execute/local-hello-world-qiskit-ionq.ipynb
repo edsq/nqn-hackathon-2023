{
 "cells": [
  {
   "cell_type": "markdown",
   "id": "fe77c70a-9420-44fa-912a-131d9b9282da",
   "metadata": {},
   "source": [
    "# 👋🌍 Hello, world: Submit a Qiskit job to IonQ\n",
    "\n",
    "In this notebook, we'll review the basics of Azure Quantum by submitting a simple *job*, or quantum program, to [IonQ](https://ionq.com/). We will use [Qiskit](https://qiskit.org/) to express the quantum job."
   ]
  },
  {
   "cell_type": "markdown",
   "id": "c196fa94-b65e-4f51-8439-796d71b8691b",
   "metadata": {
    "nteract": {
     "transient": {
      "deleting": false
     }
    }
   },
   "source": [
    "## Submit a simple job to IonQ using Azure Quantum\n",
    "Azure Quantum provides several ways to express quantum programs. In this example we are using Qiskit, but note that Q# and Cirq are also supported. All code in this example will be written in Python.\n",
    "\n",
    "Let's begin. When you see a code block, hover over it and click the triangle play-button to execute it. To avoid any compilation issues, this should be done in order from top to bottom."
   ]
  },
  {
   "cell_type": "markdown",
   "id": "6dfd753d-d59a-435e-b16e-0f5630cd815c",
   "metadata": {
    "nteract": {
     "transient": {
      "deleting": false
     }
    }
   },
   "source": [
    "### 1. Connect to the \"Azure Quantum workspace\"\n",
    "\n",
    "To connect to the Azure Quantum service, construct an instance of the `AzureQuantumProvider`. Note that it's imported from `azure.quantum.qiskit`.\n",
    "\n",
    "Because we don't have access to the azure workspace on our local machine, we'll fake it using `AerProvider`."
   ]
  },
  {
   "cell_type": "code",
   "execution_count": 1,
   "id": "2908d53a-844f-456b-a636-ce99723d74ee",
   "metadata": {},
   "outputs": [],
   "source": [
    "# from azure.quantum.qiskit import AzureQuantumProvider\n",
    "# provider = AzureQuantumProvider (\n",
    "#     resource_id = \"/subscriptions/e3f1c7eb-35db-4138-9a6d-6cc8455e4e3c/resourceGroups/AzureQuantum/providers/Microsoft.Quantum/Workspaces/nqn-winter-hackathon-2023\",\n",
    "#     location = \"westus\"\n",
    "# )\n",
    "from qiskit.providers.aer import AerProvider as AzureQuantumProvider\n",
    "\n",
    "# from qiskit_ionq.ionq_provider import IonQProvider as AzureQuantumProvider\n",
    "provider = AzureQuantumProvider()"
   ]
  },
  {
   "cell_type": "markdown",
   "id": "c747868a-f7a7-496e-961c-3d96594634b9",
   "metadata": {
    "nteract": {
     "transient": {
      "deleting": false
     }
    }
   },
   "source": [
    "Let's see what providers and targets are enabled in this workspace with the following command:\n"
   ]
  },
  {
   "cell_type": "code",
   "execution_count": 2,
   "id": "f07bce21-838a-4498-b77e-63de83e65a8b",
   "metadata": {
    "jupyter": {
     "outputs_hidden": false,
     "source_hidden": false
    },
    "nteract": {
     "transient": {
      "deleting": false
     }
    }
   },
   "outputs": [
    {
     "name": "stdout",
     "output_type": "stream",
     "text": [
      "This workspace's targets:\n",
      "- aer_simulator\n",
      "- aer_simulator_statevector\n",
      "- aer_simulator_density_matrix\n",
      "- aer_simulator_stabilizer\n",
      "- aer_simulator_matrix_product_state\n",
      "- aer_simulator_extended_stabilizer\n",
      "- aer_simulator_unitary\n",
      "- aer_simulator_superop\n",
      "- qasm_simulator\n",
      "- statevector_simulator\n",
      "- unitary_simulator\n",
      "- pulse_simulator\n"
     ]
    }
   ],
   "source": [
    "from qiskit import QuantumCircuit\n",
    "from qiskit.visualization import plot_histogram\n",
    "from qiskit.tools.monitor import job_monitor\n",
    "\n",
    "print(\"This workspace's targets:\")\n",
    "for backend in provider.backends():\n",
    "    print(\"- \" + backend.name())"
   ]
  },
  {
   "cell_type": "markdown",
   "id": "02b77862-2783-49d9-8163-97b8e71c2ff4",
   "metadata": {
    "nteract": {
     "transient": {
      "deleting": false
     }
    }
   },
   "source": [
    "### ❕ Do you see `ionq.simulator` in your list of targets? If so, you're ready to keep going.\n",
    "\n",
    "Don't see it? You may need to add IonQ to your workspace to run this sample. Navigate to the **Providers** page in the portal and click **+Add** to add the IonQ provider. Don't worry, there's a free credits plan available."
   ]
  },
  {
   "cell_type": "markdown",
   "id": "ffab42be-2b2e-4ab3-93b2-5ff040733e14",
   "metadata": {
    "nteract": {
     "transient": {
      "deleting": false
     }
    }
   },
   "source": [
    "## IonQ: The quantum provider\n",
    "Azure Quantum partners with third-party companies to deliver solutions to quantum jobs. These company offerings are called *providers*. Each provider can offer multiple *targets* with different capabilities. See the table below for IonQ's targets.\n",
    "\n",
    "| Target name | Target ID | Number of qubits | Description |\n",
    "| --- | --- | --- | --- |\n",
    "| Quantum simulator | `ionq.simulator` | 29 qubits | IonQ's cloud-based idealized simulator. Free of cost. |\n",
    "| Aria 1 | `ionq.qpu.aria-1` | 23 qubits | IonQ's Aria 1 trapped-ion quantum computer. This is real quantum hardware, not a simulation. |\n",
    "| Quantum computer | `ionq.qpu` | 11 qubits | IonQ's trapped-ion quantum computer. This is real quantum hardware, not a simulation. |\n",
    "\n",
    "For this example, we will use `ionq.simulator`. To learn more about IonQ's targets, check out our [documentation](https://docs.microsoft.com/azure/quantum/provider-ionq)."
   ]
  },
  {
   "cell_type": "markdown",
   "id": "f45c7e70-9115-4c13-8a8f-4347d619f8f8",
   "metadata": {},
   "source": [
    "### 2. Build the quantum program\n",
    "\n",
    "Let's create a simple Qiskit circuit to run."
   ]
  },
  {
   "cell_type": "code",
   "execution_count": 3,
   "id": "c8168edc-4780-4280-9172-f49d31eba0be",
   "metadata": {},
   "outputs": [
    {
     "data": {
      "text/html": [
       "<pre style=\"word-wrap: normal;white-space: pre;background: #fff0;line-height: 1.1;font-family: &quot;Courier New&quot;,Courier,monospace\">     ┌───┐┌─┐\n",
       "  q: ┤ H ├┤M├\n",
       "     └───┘└╥┘\n",
       "c: 1/══════╩═\n",
       "           0 </pre>"
      ],
      "text/plain": [
       "     ┌───┐┌─┐\n",
       "  q: ┤ H ├┤M├\n",
       "     └───┘└╥┘\n",
       "c: 1/══════╩═\n",
       "           0 "
      ]
     },
     "execution_count": 3,
     "metadata": {},
     "output_type": "execute_result"
    }
   ],
   "source": [
    "# Create a quantum circuit acting on a single qubit\n",
    "circuit = QuantumCircuit(1, 1)\n",
    "circuit.name = \"Single qubit random\"\n",
    "circuit.h(0)\n",
    "circuit.measure(0, 0)\n",
    "\n",
    "# Print out the circuit\n",
    "circuit.draw()"
   ]
  },
  {
   "cell_type": "markdown",
   "id": "dbde7351-0d4e-45df-b760-ef2402ce868f",
   "metadata": {
    "nteract": {
     "transient": {
      "deleting": false
     }
    }
   },
   "source": [
    "The circuit you built is a simple quantum random bit generator. With IonQ's idealized simulator, we will be able to calculate the probability of measuring a `1` or `0`."
   ]
  },
  {
   "cell_type": "markdown",
   "id": "785fe349-e035-4ae1-9392-9ef6b57ea1bb",
   "metadata": {},
   "source": [
    "### 3. Submit the quantum program to IonQ"
   ]
  },
  {
   "cell_type": "code",
   "execution_count": 4,
   "id": "3fe3c00a-47c5-4acb-abd5-a3810db46b93",
   "metadata": {},
   "outputs": [],
   "source": [
    "# Create an object that represents IonQ's simulator target, \"ionq.simulator\".\n",
    "#   Note that any target you have enabled in this workspace can\n",
    "#   be used here. Azure Quantum makes it extremely easy to submit\n",
    "#   the same quantum program to different providers.\n",
    "# Because we don't have the IonQ target on our local machine, use the aer_simulator\n",
    "# ionq_simulator_backend = provider.get_backend(\"ionq.simulator\")\n",
    "ionq_simulator_backend = provider.get_backend(\"aer_simulator\")\n",
    "\n",
    "# Using the IonQ simulator target, call \"run\" to submit the job. We'll\n",
    "# use 100 shots (simulated runs).\n",
    "job = ionq_simulator_backend.run(circuit, shots=100)\n",
    "# print(\"Job id:\", job.id())  # The Aer simulator doesn't have job ids"
   ]
  },
  {
   "cell_type": "markdown",
   "id": "26f31fc6-36cd-4427-9a04-d3aa935ff77a",
   "metadata": {
    "nteract": {
     "transient": {
      "deleting": false
     }
    }
   },
   "source": [
    "The job ID can be used to retrieve the results later using the [get_details function](https://docs.microsoft.com/azure/quantum/optimization-job-reference#jobdetails) or by viewing it under the **Job management** section of the portal."
   ]
  },
  {
   "cell_type": "markdown",
   "id": "b2e32620-99be-4429-b316-001c54a2e568",
   "metadata": {
    "nteract": {
     "transient": {
      "deleting": false
     }
    }
   },
   "source": [
    "### 4. Obtain the job results\n",
    "You can monitor the job status with Qiskit's `job_monitor` function.\n",
    "\n",
    "This may take a minute or so ⏳. Your job will be packaged and sent to IonQ, where it will wait its turn to be run. You'll see your job go through these stages: \"job is queued\" -> \"job is actively running\" -> \"job has successfully run.\""
   ]
  },
  {
   "cell_type": "code",
   "execution_count": 5,
   "id": "6f9055e0-914b-427f-b037-4b2db95340a0",
   "metadata": {},
   "outputs": [
    {
     "name": "stdout",
     "output_type": "stream",
     "text": [
      "\r",
      "Job Status: job has successfully run\n"
     ]
    },
    {
     "data": {
      "image/png": "[encoded data removed]",
      "text/plain": [
       "<Figure size 700x500 with 1 Axes>"
      ]
     },
     "execution_count": 5,
     "metadata": {
      "filenames": {
       "image/png": "/Users/Ed/Documents/ForbesGroup/NQN_Summit_2023/hackathon/nqn-hackathon-2023/docs/_build/jupyter_execute/local-hello-world-qiskit-ionq_15_1.png"
      }
     },
     "output_type": "execute_result"
    }
   ],
   "source": [
    "job_monitor(job)\n",
    "\n",
    "result = job.result()\n",
    "\n",
    "# The result object is native to the Qiskit package, so we can use Qiskit's tools to print the result as a histogram.\n",
    "plot_histogram(result.get_counts(circuit), title=\"Result\")"
   ]
  },
  {
   "cell_type": "markdown",
   "id": "de180c77-27c5-42f9-a13f-6212df440bd1",
   "metadata": {
    "nteract": {
     "transient": {
      "deleting": false
     }
    }
   },
   "source": [
    "**See the histogram above? Congratulations, you've submitted a job with Azure Quantum! 👏**\n"
   ]
  },
  {
   "cell_type": "markdown",
   "id": "6654e197-4344-4786-a8bc-e4a4541fd1a6",
   "metadata": {},
   "source": [
    "### 5. Estimate costs\n",
    "\n",
    "To estimate the costs of running this program on a simulator or hardware, you can use the `backend.estimate_cost` method."
   ]
  },
  {
   "cell_type": "code",
   "execution_count": 6,
   "id": "e358b8d3-b8ce-4fc8-8b8d-5e0aa00556ce",
   "metadata": {},
   "outputs": [
    {
     "ename": "QiskitBackendNotFoundError",
     "evalue": "'No backend matches the criteria'",
     "output_type": "error",
     "traceback": [
      "\u001b[0;31m---------------------------------------------------------------------------\u001b[0m",
      "\u001b[0;31mQiskitBackendNotFoundError\u001b[0m                Traceback (most recent call last)",
      "Cell \u001b[0;32mIn[6], line 1\u001b[0m\n\u001b[0;32m----> 1\u001b[0m backend \u001b[38;5;241m=\u001b[39m \u001b[43mprovider\u001b[49m\u001b[38;5;241;43m.\u001b[39;49m\u001b[43mget_backend\u001b[49m\u001b[43m(\u001b[49m\u001b[38;5;124;43m\"\u001b[39;49m\u001b[38;5;124;43mionq.qpu\u001b[39;49m\u001b[38;5;124;43m\"\u001b[39;49m\u001b[43m)\u001b[49m\n\u001b[1;32m      2\u001b[0m cost \u001b[38;5;241m=\u001b[39m backend\u001b[38;5;241m.\u001b[39mestimate_cost(circuit, shots\u001b[38;5;241m=\u001b[39m\u001b[38;5;241m100\u001b[39m)\n\u001b[1;32m      3\u001b[0m \u001b[38;5;28mprint\u001b[39m(\u001b[38;5;124mf\u001b[39m\u001b[38;5;124m\"\u001b[39m\u001b[38;5;124mEstimated cost: \u001b[39m\u001b[38;5;132;01m{\u001b[39;00mcost\u001b[38;5;241m.\u001b[39mestimated_total\u001b[38;5;132;01m}\u001b[39;00m\u001b[38;5;124m \u001b[39m\u001b[38;5;132;01m{\u001b[39;00mcost\u001b[38;5;241m.\u001b[39mcurrency_code\u001b[38;5;132;01m}\u001b[39;00m\u001b[38;5;124m\"\u001b[39m)\n",
      "File \u001b[0;32m~/miniconda3/envs/nqn-2023/lib/python3.9/site-packages/qiskit_aer/aerprovider.py:62\u001b[0m, in \u001b[0;36mAerProvider.get_backend\u001b[0;34m(self, name, **kwargs)\u001b[0m\n\u001b[1;32m     61\u001b[0m \u001b[38;5;28;01mdef\u001b[39;00m \u001b[38;5;21mget_backend\u001b[39m(\u001b[38;5;28mself\u001b[39m, name\u001b[38;5;241m=\u001b[39m\u001b[38;5;28;01mNone\u001b[39;00m, \u001b[38;5;241m*\u001b[39m\u001b[38;5;241m*\u001b[39mkwargs):\n\u001b[0;32m---> 62\u001b[0m     \u001b[38;5;28;01mreturn\u001b[39;00m \u001b[38;5;28;43msuper\u001b[39;49m\u001b[43m(\u001b[49m\u001b[43m)\u001b[49m\u001b[38;5;241;43m.\u001b[39;49m\u001b[43mget_backend\u001b[49m\u001b[43m(\u001b[49m\u001b[43mname\u001b[49m\u001b[38;5;241;43m=\u001b[39;49m\u001b[43mname\u001b[49m\u001b[43m,\u001b[49m\u001b[43m \u001b[49m\u001b[38;5;241;43m*\u001b[39;49m\u001b[38;5;241;43m*\u001b[39;49m\u001b[43mkwargs\u001b[49m\u001b[43m)\u001b[49m\n",
      "File \u001b[0;32m~/miniconda3/envs/nqn-2023/lib/python3.9/site-packages/qiskit/providers/provider.py:55\u001b[0m, in \u001b[0;36mProviderV1.get_backend\u001b[0;34m(self, name, **kwargs)\u001b[0m\n\u001b[1;32m     53\u001b[0m     \u001b[38;5;28;01mraise\u001b[39;00m QiskitBackendNotFoundError(\u001b[38;5;124m\"\u001b[39m\u001b[38;5;124mMore than one backend matches the criteria\u001b[39m\u001b[38;5;124m\"\u001b[39m)\n\u001b[1;32m     54\u001b[0m \u001b[38;5;28;01mif\u001b[39;00m \u001b[38;5;129;01mnot\u001b[39;00m backends:\n\u001b[0;32m---> 55\u001b[0m     \u001b[38;5;28;01mraise\u001b[39;00m QiskitBackendNotFoundError(\u001b[38;5;124m\"\u001b[39m\u001b[38;5;124mNo backend matches the criteria\u001b[39m\u001b[38;5;124m\"\u001b[39m)\n\u001b[1;32m     57\u001b[0m \u001b[38;5;28;01mreturn\u001b[39;00m backends[\u001b[38;5;241m0\u001b[39m]\n",
      "\u001b[0;31mQiskitBackendNotFoundError\u001b[0m: 'No backend matches the criteria'"
     ]
    }
   ],
   "source": [
    "backend = provider.get_backend(\"ionq.qpu\")\n",
    "cost = backend.estimate_cost(circuit, shots=100)\n",
    "print(f\"Estimated cost: {cost.estimated_total} {cost.currency_code}\")"
   ]
  },
  {
   "cell_type": "markdown",
   "id": "3868139d-0904-4004-80b9-7e26923f4073",
   "metadata": {
    "nteract": {
     "transient": {
      "deleting": false
     }
    }
   },
   "source": [
    "### 6. Next steps\n",
    "Next, you can try running a program on IonQ's hardware target. Just replace `ionq.simulator` with `ionq.qpu`. Or try another sample by navigating back to the sample gallery. The same \"hello world\" sample can be run with different quantum providers by choosing another option in the gallery card drop-down menu. Don't worry - your work here is automatically saved.\n",
    "\n",
    "To learn more about submitting Qiskit circuits to Azure Quantum, review [this documentation](https://docs.microsoft.com/azure/quantum/quickstart-microsoft-qiskit?pivots=platform-ionq).\n",
    "\n",
    "To learn more about job pricing, review the [Azure Quantum documentation on job costs](https://docs.microsoft.com/azure/quantum/azure-quantum-job-costs)."
   ]
  }
 ],
 "metadata": {
  "kernel_info": {
   "name": "python3"
  },
  "kernelspec": {
   "display_name": "Python 3 (ipykernel)",
   "language": "python",
   "name": "python3"
  },
  "language_info": {
   "codemirror_mode": {
    "name": "ipython",
    "version": 3
   },
   "file_extension": ".py",
   "mimetype": "text/x-python",
   "name": "python",
   "nbconvert_exporter": "python",
   "pygments_lexer": "ipython3",
   "version": "3.9.16"
  },
  "microsoft": {
   "host": {
    "AzureQuantum": {
     "sourceLink": "https://raw.githubusercontent.com/microsoft/Quantum/f7d76cc28219b577404437b993a8fdfdc0dad33e/samples/azure-quantum/hello-world/HW-ionq-qiskit.ipynb",
     "sourceType": "SampleGallery"
    }
   }
  },
  "nteract": {
   "version": "nteract-front-end@1.0.0"
  }
 },
 "nbformat": 4,
 "nbformat_minor": 5
}